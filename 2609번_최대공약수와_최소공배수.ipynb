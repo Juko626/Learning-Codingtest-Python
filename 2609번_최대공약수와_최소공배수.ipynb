{
  "nbformat": 4,
  "nbformat_minor": 0,
  "metadata": {
    "colab": {
      "name": "2609번 최대공약수와 최소공배수.ipynb",
      "provenance": [],
      "authorship_tag": "ABX9TyPh0PS8mIvPphwA+DpLwtIx",
      "include_colab_link": true
    },
    "kernelspec": {
      "name": "python3",
      "display_name": "Python 3"
    },
    "language_info": {
      "name": "python"
    }
  },
  "cells": [
    {
      "cell_type": "markdown",
      "metadata": {
        "id": "view-in-github",
        "colab_type": "text"
      },
      "source": [
        "<a href=\"https://colab.research.google.com/github/Juko626/Learning-Codingtest-Python/blob/main/2609%EB%B2%88_%EC%B5%9C%EB%8C%80%EA%B3%B5%EC%95%BD%EC%88%98%EC%99%80_%EC%B5%9C%EC%86%8C%EA%B3%B5%EB%B0%B0%EC%88%98.ipynb\" target=\"_parent\"><img src=\"https://colab.research.google.com/assets/colab-badge.svg\" alt=\"Open In Colab\"/></a>"
      ]
    },
    {
      "cell_type": "code",
      "execution_count": 14,
      "metadata": {
        "colab": {
          "base_uri": "https://localhost:8080/"
        },
        "id": "nlTCKLe9_zKK",
        "outputId": "2e7c8689-4bbe-44bd-8b2d-461e9de5accf"
      },
      "outputs": [
        {
          "output_type": "stream",
          "name": "stdout",
          "text": [
            "24 18\n",
            "6\n",
            "72\n"
          ]
        }
      ],
      "source": [
        "a,b=input().split()\n",
        "a,b=int(a),int(b)\n",
        "from math import gcd\n",
        "print(gcd(a,b))\n",
        "gcd_a=a/gcd(a,b)\n",
        "gcd_b=b/gcd(a,b)\n",
        "print(int(gcd_a*gcd_b *gcd(a,b)))\n"
      ]
    },
    {
      "cell_type": "code",
      "source": [
        "2"
      ],
      "metadata": {
        "id": "Izi6kq2qBMqk"
      },
      "execution_count": null,
      "outputs": []
    }
  ]
}