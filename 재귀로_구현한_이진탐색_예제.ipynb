{
  "nbformat": 4,
  "nbformat_minor": 0,
  "metadata": {
    "colab": {
      "name": "재귀로 구현한 이진탐색 예제.ipynb",
      "provenance": [],
      "authorship_tag": "ABX9TyM0szECDlecXHb4Z/PvVeaK",
      "include_colab_link": true
    },
    "kernelspec": {
      "name": "python3",
      "display_name": "Python 3"
    },
    "language_info": {
      "name": "python"
    }
  },
  "cells": [
    {
      "cell_type": "markdown",
      "metadata": {
        "id": "view-in-github",
        "colab_type": "text"
      },
      "source": [
        "<a href=\"https://colab.research.google.com/github/Juko626/Learning-Codingtest-Python/blob/main/%EC%9E%AC%EA%B7%80%EB%A1%9C_%EA%B5%AC%ED%98%84%ED%95%9C_%EC%9D%B4%EC%A7%84%ED%83%90%EC%83%89_%EC%98%88%EC%A0%9C.ipynb\" target=\"_parent\"><img src=\"https://colab.research.google.com/assets/colab-badge.svg\" alt=\"Open In Colab\"/></a>"
      ]
    },
    {
      "cell_type": "code",
      "execution_count": 5,
      "metadata": {
        "colab": {
          "base_uri": "https://localhost:8080/"
        },
        "id": "BxrkloKBklGW",
        "outputId": "7ca8769b-8dd7-4fc0-b420-5013367de1fe"
      },
      "outputs": [
        {
          "output_type": "execute_result",
          "data": {
            "text/plain": [
              "3"
            ]
          },
          "metadata": {},
          "execution_count": 5
        }
      ],
      "source": [
        "def binary_search(array,target,start,end):\n",
        "    if start>end:\n",
        "        return None\n",
        "    mid=(start+end)//2\n",
        "    if target==array[mid]:\n",
        "        return mid\n",
        "    elif target>array[mid]:\n",
        "        return binary_search(array,target,mid+1,end)\n",
        "    elif target<array[mid]:\n",
        "        return binary_search(array,target,start,mid-1)\n",
        "    else:\n",
        "        print(\"없음\")\n",
        "array1=[1,3,5,7,9,11,13,15,17,19]    \n",
        "binary_search(array1,7,0,9)\n"
      ]
    },
    {
      "cell_type": "code",
      "source": [
        ""
      ],
      "metadata": {
        "id": "ugTBoez4niRc"
      },
      "execution_count": null,
      "outputs": []
    }
  ]
}