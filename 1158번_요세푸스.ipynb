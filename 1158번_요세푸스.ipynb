{
  "nbformat": 4,
  "nbformat_minor": 0,
  "metadata": {
    "colab": {
      "name": "1158번 요세푸스",
      "provenance": [],
      "authorship_tag": "ABX9TyME9AV8AHFxdD+rmyrJyMdx",
      "include_colab_link": true
    },
    "kernelspec": {
      "name": "python3",
      "display_name": "Python 3"
    },
    "language_info": {
      "name": "python"
    }
  },
  "cells": [
    {
      "cell_type": "markdown",
      "metadata": {
        "id": "view-in-github",
        "colab_type": "text"
      },
      "source": [
        "<a href=\"https://colab.research.google.com/github/Juko626/Learning-Codingtest-Python/blob/main/1158%EB%B2%88_%EC%9A%94%EC%84%B8%ED%91%B8%EC%8A%A4.ipynb\" target=\"_parent\"><img src=\"https://colab.research.google.com/assets/colab-badge.svg\" alt=\"Open In Colab\"/></a>"
      ]
    },
    {
      "cell_type": "code",
      "execution_count": 34,
      "metadata": {
        "colab": {
          "base_uri": "https://localhost:8080/"
        },
        "id": "5Fm0Uaxpoh9-",
        "outputId": "13727064-15b8-47d8-f371-05d73322053a"
      },
      "outputs": [
        {
          "output_type": "stream",
          "name": "stdout",
          "text": [
            "7 3\n",
            "<3, 6, 2, 7, 5, 1, 4>\n"
          ]
        }
      ],
      "source": [
        "N,K = map(int,input().split())\n",
        "arr = [i for i in range(1,N+1)]    # 맨 처음에 원에 앉아있는 사람들\n",
        "\n",
        "answer = []   # 제거된 사람들을 넣을 배열\n",
        "num = 0  # 제거될 사람의 인덱스 번호\n",
        "\n",
        "for t in range(N):\n",
        "    num += K-1  \n",
        "    if num >= len(arr):   # 한바퀴를 돌고 그다음으로 돌아올때를 대비해 값을 나머지로 바꿈  \n",
        "        num = num%len(arr)\n",
        " \n",
        "    answer.append(str(arr.pop(num)))\n",
        "print(\"<\",\", \".join(answer)[:],\">\", sep='')\n"
      ]
    },
    {
      "cell_type": "code",
      "source": [
        ""
      ],
      "metadata": {
        "id": "u3hVtlQLvQGh"
      },
      "execution_count": null,
      "outputs": []
    }
  ]
}