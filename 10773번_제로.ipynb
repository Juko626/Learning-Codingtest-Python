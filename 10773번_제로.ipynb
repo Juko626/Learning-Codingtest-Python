{
  "nbformat": 4,
  "nbformat_minor": 0,
  "metadata": {
    "colab": {
      "name": "10773번 제로",
      "provenance": [],
      "authorship_tag": "ABX9TyOpvVgK/JMQJ37Tly6EyhDh",
      "include_colab_link": true
    },
    "kernelspec": {
      "name": "python3",
      "display_name": "Python 3"
    },
    "language_info": {
      "name": "python"
    }
  },
  "cells": [
    {
      "cell_type": "markdown",
      "metadata": {
        "id": "view-in-github",
        "colab_type": "text"
      },
      "source": [
        "<a href=\"https://colab.research.google.com/github/Juko626/Learning-Codingtest-Python/blob/main/10773%EB%B2%88_%EC%A0%9C%EB%A1%9C.ipynb\" target=\"_parent\"><img src=\"https://colab.research.google.com/assets/colab-badge.svg\" alt=\"Open In Colab\"/></a>"
      ]
    },
    {
      "cell_type": "code",
      "execution_count": 2,
      "metadata": {
        "colab": {
          "base_uri": "https://localhost:8080/"
        },
        "id": "5qBGb4EYXq33",
        "outputId": "ce404d0a-dbb6-4c2b-811b-f7498bcc21b4"
      },
      "outputs": [
        {
          "output_type": "stream",
          "name": "stdout",
          "text": [
            "10\n",
            "1\n",
            "3\n",
            "5\n",
            "4\n",
            "0\n",
            "0\n",
            "7\n",
            "0\n",
            "0\n",
            "6\n",
            "7\n"
          ]
        }
      ],
      "source": [
        "n=int(input())\n",
        "num_list=[]\n",
        "for i in range(n):\n",
        "    num=int(input())\n",
        "    if num==0:\n",
        "        num_list.pop()\n",
        "\n",
        "    else:\n",
        "        num_list.append(num)\n",
        "\n",
        "print(sum(num_list))\n",
        "     "
      ]
    },
    {
      "cell_type": "code",
      "source": [
        ""
      ],
      "metadata": {
        "id": "jiBwLtAnd1_n"
      },
      "execution_count": null,
      "outputs": []
    }
  ]
}