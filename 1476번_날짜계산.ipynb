{
  "nbformat": 4,
  "nbformat_minor": 0,
  "metadata": {
    "colab": {
      "name": "1476번 날짜계산",
      "provenance": [],
      "authorship_tag": "ABX9TyNRiu8qVo+Ypa7EKJ+YX+OM",
      "include_colab_link": true
    },
    "kernelspec": {
      "name": "python3",
      "display_name": "Python 3"
    },
    "language_info": {
      "name": "python"
    }
  },
  "cells": [
    {
      "cell_type": "markdown",
      "metadata": {
        "id": "view-in-github",
        "colab_type": "text"
      },
      "source": [
        "<a href=\"https://colab.research.google.com/github/Juko626/Learning-Codingtest-Python/blob/main/1476%EB%B2%88_%EB%82%A0%EC%A7%9C%EA%B3%84%EC%82%B0.ipynb\" target=\"_parent\"><img src=\"https://colab.research.google.com/assets/colab-badge.svg\" alt=\"Open In Colab\"/></a>"
      ]
    },
    {
      "cell_type": "code",
      "execution_count": null,
      "metadata": {
        "id": "DR53lfJqUQx2"
      },
      "outputs": [],
      "source": [
        "a=list(map(int,input().split()))\n",
        "E,S, M=0,0,0\n",
        "count=0\n",
        "while(True):\n",
        "    E+=1\n",
        "    S+=1\n",
        "    M+=1\n",
        "    if E==16:\n",
        "        E=1\n",
        "    if S==29:\n",
        "        S=1\n",
        "    if M==20:\n",
        "        M=1\n",
        "    count+=1\n",
        "    if E==a[0] and S==a[1] and M==a[2]:\n",
        "        print(count)\n",
        "        break\n"
      ]
    }
  ]
}