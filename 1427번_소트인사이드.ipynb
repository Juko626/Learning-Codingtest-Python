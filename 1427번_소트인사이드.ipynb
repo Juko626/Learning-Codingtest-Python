{
  "nbformat": 4,
  "nbformat_minor": 0,
  "metadata": {
    "colab": {
      "name": "1427번 소트인사이드.ipynb",
      "provenance": [],
      "authorship_tag": "ABX9TyMSEZ5wlMrzuD0Px0nhfmkl",
      "include_colab_link": true
    },
    "kernelspec": {
      "name": "python3",
      "display_name": "Python 3"
    },
    "language_info": {
      "name": "python"
    }
  },
  "cells": [
    {
      "cell_type": "markdown",
      "metadata": {
        "id": "view-in-github",
        "colab_type": "text"
      },
      "source": [
        "<a href=\"https://colab.research.google.com/github/Juko626/Learning-Codingtest-Python/blob/main/1427%EB%B2%88_%EC%86%8C%ED%8A%B8%EC%9D%B8%EC%82%AC%EC%9D%B4%EB%93%9C.ipynb\" target=\"_parent\"><img src=\"https://colab.research.google.com/assets/colab-badge.svg\" alt=\"Open In Colab\"/></a>"
      ]
    },
    {
      "cell_type": "code",
      "execution_count": null,
      "metadata": {
        "id": "87RSvmxUu2Jk"
      },
      "outputs": [],
      "source": [
        "word=list(input())\n",
        "print(\"\".join(sorted(word,reverse=True)))"
      ]
    }
  ]
}