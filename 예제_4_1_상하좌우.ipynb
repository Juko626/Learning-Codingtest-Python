{
  "nbformat": 4,
  "nbformat_minor": 0,
  "metadata": {
    "colab": {
      "name": "예제 4-1 상하좌우.ipynb",
      "provenance": [],
      "collapsed_sections": [],
      "authorship_tag": "ABX9TyOSkAYnEEcE2jKB64gYK6/0",
      "include_colab_link": true
    },
    "kernelspec": {
      "name": "python3",
      "display_name": "Python 3"
    },
    "language_info": {
      "name": "python"
    }
  },
  "cells": [
    {
      "cell_type": "markdown",
      "metadata": {
        "id": "view-in-github",
        "colab_type": "text"
      },
      "source": [
        "<a href=\"https://colab.research.google.com/github/Juko626/Learning-Codingtest-Python/blob/main/%EC%98%88%EC%A0%9C_4_1_%EC%83%81%ED%95%98%EC%A2%8C%EC%9A%B0.ipynb\" target=\"_parent\"><img src=\"https://colab.research.google.com/assets/colab-badge.svg\" alt=\"Open In Colab\"/></a>"
      ]
    },
    {
      "cell_type": "code",
      "execution_count": 3,
      "metadata": {
        "colab": {
          "base_uri": "https://localhost:8080/"
        },
        "id": "fRrNvABfE3n4",
        "outputId": "2ee1d331-96b6-4b3d-9bfa-5e9a15d5cede"
      },
      "outputs": [
        {
          "name": "stdout",
          "output_type": "stream",
          "text": [
            "5\n",
            "R R R U D D\n"
          ]
        }
      ],
      "source": [
        "n=int(input())\n",
        "walk_list=list(input().split())\n"
      ]
    },
    {
      "cell_type": "code",
      "source": [
        "graph=[[0]*(n+1) for i in range(n+1)]\n",
        "graph"
      ],
      "metadata": {
        "colab": {
          "base_uri": "https://localhost:8080/"
        },
        "id": "iD0apZx5GLr3",
        "outputId": "1b691cd6-11b0-40ac-c662-7063c318f4e3"
      },
      "execution_count": 7,
      "outputs": [
        {
          "output_type": "execute_result",
          "data": {
            "text/plain": [
              "[[0, 0, 0, 0, 0, 0],\n",
              " [0, 0, 0, 0, 0, 0],\n",
              " [0, 0, 0, 0, 0, 0],\n",
              " [0, 0, 0, 0, 0, 0],\n",
              " [0, 0, 0, 0, 0, 0],\n",
              " [0, 0, 0, 0, 0, 0]]"
            ]
          },
          "metadata": {},
          "execution_count": 7
        }
      ]
    },
    {
      "cell_type": "code",
      "source": [
        "direction=[\"U\",\"D\",\"L\",\"R\"]\n",
        "nx=[-1,1,0,0]\n",
        "ny=[0,0,-1,1]\n",
        "x=1\n",
        "y=1\n",
        "for i in walk_list:\n",
        "    dx=x+nx[direction.index(i)]\n",
        "    dy=y+ny[direction.index(i)]\n",
        "    if dx>n+1 or dy>n+1 or dx<1 or dy<1:\n",
        "        continue\n",
        "    else:\n",
        "        x=dx\n",
        "        y=dy\n",
        "print(x,y)"
      ],
      "metadata": {
        "colab": {
          "base_uri": "https://localhost:8080/"
        },
        "id": "DsTMikn8KorX",
        "outputId": "aba3bc59-baa6-47b5-9354-d02d8900806f"
      },
      "execution_count": 15,
      "outputs": [
        {
          "output_type": "stream",
          "name": "stdout",
          "text": [
            "3 4\n"
          ]
        }
      ]
    },
    {
      "cell_type": "code",
      "source": [
        ""
      ],
      "metadata": {
        "id": "0RnrbFevKpU3"
      },
      "execution_count": null,
      "outputs": []
    }
  ]
}