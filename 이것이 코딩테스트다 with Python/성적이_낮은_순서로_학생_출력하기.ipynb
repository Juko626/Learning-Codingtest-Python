{
  "nbformat": 4,
  "nbformat_minor": 0,
  "metadata": {
    "colab": {
      "name": "성적이 낮은 순서로 학생 출력하기.ipynb",
      "provenance": [],
      "authorship_tag": "ABX9TyOxs5Z4hcQvReH9P8256cK0",
      "include_colab_link": true
    },
    "kernelspec": {
      "name": "python3",
      "display_name": "Python 3"
    },
    "language_info": {
      "name": "python"
    }
  },
  "cells": [
    {
      "cell_type": "markdown",
      "metadata": {
        "id": "view-in-github",
        "colab_type": "text"
      },
      "source": [
        "<a href=\"https://colab.research.google.com/github/Juko626/Learning-Codingtest-Python/blob/main/%EC%84%B1%EC%A0%81%EC%9D%B4_%EB%82%AE%EC%9D%80_%EC%88%9C%EC%84%9C%EB%A1%9C_%ED%95%99%EC%83%9D_%EC%B6%9C%EB%A0%A5%ED%95%98%EA%B8%B0.ipynb\" target=\"_parent\"><img src=\"https://colab.research.google.com/assets/colab-badge.svg\" alt=\"Open In Colab\"/></a>"
      ]
    },
    {
      "cell_type": "code",
      "execution_count": 1,
      "metadata": {
        "id": "Mcem0uOM0dDh"
      },
      "outputs": [],
      "source": [
        "n=2\n",
        "score=[[\"홍길동\",95],[\"이순신\",77]]"
      ]
    },
    {
      "cell_type": "code",
      "source": [
        "a=sorted(score,key=lambda x:x[1])\n",
        "a"
      ],
      "metadata": {
        "colab": {
          "base_uri": "https://localhost:8080/"
        },
        "id": "n-SClXvY0tgG",
        "outputId": "e7c925b1-34ad-4952-fe0e-c06f9b5d4c69"
      },
      "execution_count": 2,
      "outputs": [
        {
          "output_type": "execute_result",
          "data": {
            "text/plain": [
              "[['이순신', 77], ['홍길동', 95]]"
            ]
          },
          "metadata": {},
          "execution_count": 2
        }
      ]
    },
    {
      "cell_type": "code",
      "source": [
        "for i in a:\n",
        "    print(i[0])"
      ],
      "metadata": {
        "colab": {
          "base_uri": "https://localhost:8080/"
        },
        "id": "oUkoQ47C06iE",
        "outputId": "d2dbce03-8b36-4fad-a4ee-f688ebf69ee8"
      },
      "execution_count": 3,
      "outputs": [
        {
          "output_type": "stream",
          "name": "stdout",
          "text": [
            "이순신\n",
            "홍길동\n"
          ]
        }
      ]
    }
  ]
}