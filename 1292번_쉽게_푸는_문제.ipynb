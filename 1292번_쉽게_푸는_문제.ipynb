{
  "nbformat": 4,
  "nbformat_minor": 0,
  "metadata": {
    "colab": {
      "name": "1292번 쉽게 푸는 문제",
      "provenance": [],
      "authorship_tag": "ABX9TyPnlo6lIPeo8aRdWQyNpL32",
      "include_colab_link": true
    },
    "kernelspec": {
      "name": "python3",
      "display_name": "Python 3"
    },
    "language_info": {
      "name": "python"
    }
  },
  "cells": [
    {
      "cell_type": "markdown",
      "metadata": {
        "id": "view-in-github",
        "colab_type": "text"
      },
      "source": [
        "<a href=\"https://colab.research.google.com/github/Juko626/Learning-Codingtest-Python/blob/main/1292%EB%B2%88_%EC%89%BD%EA%B2%8C_%ED%91%B8%EB%8A%94_%EB%AC%B8%EC%A0%9C.ipynb\" target=\"_parent\"><img src=\"https://colab.research.google.com/assets/colab-badge.svg\" alt=\"Open In Colab\"/></a>"
      ]
    },
    {
      "cell_type": "code",
      "source": [
        "a,b=map(int,input().split())\n",
        "result=[]\n",
        "count=1\n",
        "while(True):\n",
        "    for i in range(count):\n",
        "        result.append(count)\n",
        "    count+=1\n",
        "    if len(result)>1000:\n",
        "        break\n",
        "print(sum(result[a-1:b]))\n",
        "\n",
        "\n"
      ],
      "metadata": {
        "colab": {
          "base_uri": "https://localhost:8080/"
        },
        "id": "VyQYDPctF_Wy",
        "outputId": "18bc378d-cb3b-42a4-9497-203ab3784f91"
      },
      "execution_count": 15,
      "outputs": [
        {
          "output_type": "stream",
          "name": "stdout",
          "text": [
            "3 7\n",
            "15\n",
            "[2, 3, 3, 3, 4]\n"
          ]
        }
      ]
    }
  ]
}