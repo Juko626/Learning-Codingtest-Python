{
  "nbformat": 4,
  "nbformat_minor": 0,
  "metadata": {
    "colab": {
      "name": "1978번 소수찾기.ipynb",
      "provenance": [],
      "authorship_tag": "ABX9TyNCfK8/ULwH79fVbTcktgx0",
      "include_colab_link": true
    },
    "kernelspec": {
      "name": "python3",
      "display_name": "Python 3"
    },
    "language_info": {
      "name": "python"
    }
  },
  "cells": [
    {
      "cell_type": "markdown",
      "metadata": {
        "id": "view-in-github",
        "colab_type": "text"
      },
      "source": [
        "<a href=\"https://colab.research.google.com/github/Juko626/Learning-Codingtest-Python/blob/main/1978%EB%B2%88_%EC%86%8C%EC%88%98%EC%B0%BE%EA%B8%B0.ipynb\" target=\"_parent\"><img src=\"https://colab.research.google.com/assets/colab-badge.svg\" alt=\"Open In Colab\"/></a>"
      ]
    },
    {
      "cell_type": "code",
      "execution_count": 25,
      "metadata": {
        "colab": {
          "base_uri": "https://localhost:8080/"
        },
        "id": "bvTEDpFoP1hc",
        "outputId": "ee56d456-e495-4e9c-d57d-5e111708f674"
      },
      "outputs": [
        {
          "output_type": "stream",
          "name": "stdout",
          "text": [
            "1\n",
            "1 2 3 4 5 6 7 8 9 10 11 12 13 14 15 16 17 18 19 20 \n",
            "[2, 3, 5, 7, 11, 13, 17, 19]\n",
            "8\n"
          ]
        }
      ],
      "source": [
        "n=int(input())\n",
        "num=list(map(int,input().split()))\n",
        "result=[]\n",
        "#[1,2,3,4,5,6,7,8,9,10]\n",
        "for i in num:\n",
        "    if i==1:\n",
        "        continue\n",
        "    for j in range(2,i):\n",
        "        if i%j==0: \n",
        "            break\n",
        "    else:    \n",
        "        \n",
        "        result.append(i)\n",
        "\n",
        "print(len(result))"
      ]
    }
  ]
}