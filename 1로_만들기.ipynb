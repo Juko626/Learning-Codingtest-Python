{
  "nbformat": 4,
  "nbformat_minor": 0,
  "metadata": {
    "colab": {
      "name": "1로 만들기.ipynb",
      "provenance": [],
      "authorship_tag": "ABX9TyM0k5aKEm9zHjLiDUz6iy4m",
      "include_colab_link": true
    },
    "kernelspec": {
      "name": "python3",
      "display_name": "Python 3"
    },
    "language_info": {
      "name": "python"
    }
  },
  "cells": [
    {
      "cell_type": "markdown",
      "metadata": {
        "id": "view-in-github",
        "colab_type": "text"
      },
      "source": [
        "<a href=\"https://colab.research.google.com/github/Juko626/Learning-Codingtest-Python/blob/main/1%EB%A1%9C_%EB%A7%8C%EB%93%A4%EA%B8%B0.ipynb\" target=\"_parent\"><img src=\"https://colab.research.google.com/assets/colab-badge.svg\" alt=\"Open In Colab\"/></a>"
      ]
    },
    {
      "cell_type": "code",
      "execution_count": 11,
      "metadata": {
        "colab": {
          "base_uri": "https://localhost:8080/"
        },
        "id": "2zmTj79eGMqP",
        "outputId": "0968c55b-dd72-4622-84f9-8252a708d684"
      },
      "outputs": [
        {
          "output_type": "stream",
          "name": "stdout",
          "text": [
            "10\n",
            "3\n",
            "[0, 0, 1, 1, 2, 3, 2, 3, 3, 2, 3]\n"
          ]
        }
      ],
      "source": [
        "N=int(input())\n",
        "d=[0]*(N+1) #연산 횟 수\n",
        "#N=10일 때\n",
        "for i in range(2,N+1):\n",
        "  d[i]=d[i-1]+1\n",
        "  if i%3==0:\n",
        "    d[i]=min(d[i],d[i//3]+1)\n",
        "  if i%2==0:\n",
        "    d[i]=min(d[i],d[i//2]+1)\n",
        "print(d[N])\n"
      ]
    },
    {
      "cell_type": "code",
      "source": [
        "'''참고 코드\n",
        "'''\n",
        "\n",
        "n = int(input())\n",
        "d = [0] * (n + 1)\t## d에 계산된 값을 저장해둔다. n + 1이라고 한 이유는, \n",
        "#1번째 수는 사실 d[1]이 아니고 d[2]이기 때문에, 계산하기 편하게 d[1]을 \n",
        "#1번째 인 것 처럼 만들어준다.\n",
        "\n",
        "for i in range(2, n + 1):\n",
        "## 여기서 왜 if 1빼는 방법, 2 나누기, 3 나누기 동등하게 하지 않고 처음에\n",
        "# 1을 빼고 시작하는지 의아해 할 수 있다.\n",
        "## 1을 빼고 시작하는 이유는 다음에 계산할 나누기가 1을 뺀 값보다 작거나 \n",
        "#큼에 따라 어차피 교체되기 때문이다.\n",
        "## 즉 셋 다 시도하는 방법이 맞다.\n",
        "\n",
        "## 여기서 if elif else를 사용하면 안된다. if만 이용해야 세 연산을 다\n",
        "# 거칠 수 있다, 가끔 if continue, else continue를 쓰는 분도 계신데, \n",
        "#난 이게 편한듯.\n",
        "    d[i] = d[i - 1] + 1\n",
        "    if i % 3 == 0:\n",
        "        d[i] = min(d[i], d[i // 3] + 1)\t## 1을 더하는 것은 d는 결과가 \n",
        "        #아닌 계산한 횟수를 저장하는 것 이기 때문이다. d[i]에는 더하지 않는 이유는\n",
        "        # 이미 1을 뺄 때 1을 더해준 이력이 있기 때문이다.\n",
        "    if i % 2 == 0:\n",
        "        d[i] = min(d[i], d[i // 2] + 1)\n",
        "print(d[n])"
      ],
      "metadata": {
        "id": "ftYOUL0kNmPu"
      },
      "execution_count": null,
      "outputs": []
    }
  ]
}