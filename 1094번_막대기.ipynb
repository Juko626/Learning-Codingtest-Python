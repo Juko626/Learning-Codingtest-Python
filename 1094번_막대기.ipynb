{
  "nbformat": 4,
  "nbformat_minor": 0,
  "metadata": {
    "colab": {
      "name": "1094번 막대기",
      "provenance": [],
      "authorship_tag": "ABX9TyMHIU0f+3dihq9QcaHjHJwo",
      "include_colab_link": true
    },
    "kernelspec": {
      "name": "python3",
      "display_name": "Python 3"
    },
    "language_info": {
      "name": "python"
    }
  },
  "cells": [
    {
      "cell_type": "markdown",
      "metadata": {
        "id": "view-in-github",
        "colab_type": "text"
      },
      "source": [
        "<a href=\"https://colab.research.google.com/github/Juko626/Learning-Codingtest-Python/blob/main/1094%EB%B2%88_%EB%A7%89%EB%8C%80%EA%B8%B0.ipynb\" target=\"_parent\"><img src=\"https://colab.research.google.com/assets/colab-badge.svg\" alt=\"Open In Colab\"/></a>"
      ]
    },
    {
      "cell_type": "code",
      "execution_count": null,
      "metadata": {
        "id": "DR53lfJqUQx2"
      },
      "outputs": [],
      "source": [
        "x = int(input())\n",
        "\n",
        "stick = [64, 32, 16, 8, 4, 2, 1]\n",
        "count = 0\n",
        "\n",
        "for i in range(len(stick)):\n",
        "    if x >= stick[i]:\n",
        "        count += 1\n",
        "        x -= stick[i]\n",
        "\n",
        "    if x == 0:\n",
        "        break\n",
        "\n",
        "print(count)"
      ]
    }
  ]
}