{
  "nbformat": 4,
  "nbformat_minor": 0,
  "metadata": {
    "colab": {
      "name": "방번호",
      "provenance": [],
      "authorship_tag": "ABX9TyOEv5lWP4ZtywlHS2LDvxx3",
      "include_colab_link": true
    },
    "kernelspec": {
      "name": "python3",
      "display_name": "Python 3"
    },
    "language_info": {
      "name": "python"
    }
  },
  "cells": [
    {
      "cell_type": "markdown",
      "metadata": {
        "id": "view-in-github",
        "colab_type": "text"
      },
      "source": [
        "<a href=\"https://colab.research.google.com/github/Juko626/Learning-Codingtest-Python/blob/main/%EB%B0%A9%EB%B2%88%ED%98%B8.ipynb\" target=\"_parent\"><img src=\"https://colab.research.google.com/assets/colab-badge.svg\" alt=\"Open In Colab\"/></a>"
      ]
    },
    {
      "cell_type": "code",
      "source": [
        "word = input()\n",
        "ans = [0] * 10\n",
        "for i in range(len(word)):\n",
        "    num = int(word[i])\n",
        "    if num == 6 or num == 9:\n",
        "        if ans[6] <= ans[9]:\n",
        "            ans[6] += 1\n",
        "        else:\n",
        "            ans[9] += 1\n",
        "    else:\n",
        "        ans[num] += 1\n",
        " \n",
        "print(max(ans))"
      ],
      "metadata": {
        "colab": {
          "base_uri": "https://localhost:8080/"
        },
        "id": "fPUD9SBij6Mp",
        "outputId": "8be7ad0b-7ab0-4f99-e71a-c1d5484674e6"
      },
      "execution_count": 7,
      "outputs": [
        {
          "output_type": "stream",
          "name": "stdout",
          "text": [
            "7980\n"
          ]
        }
      ]
    }
  ]
}