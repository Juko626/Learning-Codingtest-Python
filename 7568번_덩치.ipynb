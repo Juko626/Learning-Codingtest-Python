{
  "nbformat": 4,
  "nbformat_minor": 0,
  "metadata": {
    "colab": {
      "name": "7568번 덩치.ipynb",
      "provenance": [],
      "authorship_tag": "ABX9TyPpycO4Ww+qyQvlxoW4Sus0",
      "include_colab_link": true
    },
    "kernelspec": {
      "name": "python3",
      "display_name": "Python 3"
    },
    "language_info": {
      "name": "python"
    }
  },
  "cells": [
    {
      "cell_type": "markdown",
      "metadata": {
        "id": "view-in-github",
        "colab_type": "text"
      },
      "source": [
        "<a href=\"https://colab.research.google.com/github/Juko626/Learning-Codingtest-Python/blob/main/7568%EB%B2%88_%EB%8D%A9%EC%B9%98.ipynb\" target=\"_parent\"><img src=\"https://colab.research.google.com/assets/colab-badge.svg\" alt=\"Open In Colab\"/></a>"
      ]
    },
    {
      "cell_type": "code",
      "execution_count": 1,
      "metadata": {
        "id": "jWpmMZORNy8K"
      },
      "outputs": [],
      "source": [
        "wk=[[55,185],[58,183],[88,186],[60,175],[46,155]]"
      ]
    },
    {
      "cell_type": "code",
      "source": [
        "sort_wk=sorted(wk,key=lambda x:x[0],reverse=True)"
      ],
      "metadata": {
        "id": "1cLgfvc5OTOz"
      },
      "execution_count": 3,
      "outputs": []
    },
    {
      "cell_type": "code",
      "source": [
        "sort_wk"
      ],
      "metadata": {
        "colab": {
          "base_uri": "https://localhost:8080/"
        },
        "id": "Yr9jsZtQOdZB",
        "outputId": "1a9e82c9-02ea-41f3-cb4d-0308126f9576"
      },
      "execution_count": 4,
      "outputs": [
        {
          "output_type": "execute_result",
          "data": {
            "text/plain": [
              "[[88, 186], [60, 175], [58, 183], [55, 185], [46, 155]]"
            ]
          },
          "metadata": {},
          "execution_count": 4
        }
      ]
    },
    {
      "cell_type": "code",
      "source": [
        "num_student=int(input())\n",
        "student_list=[]\n",
        "for _ in range(num_student):\n",
        "    weight,height=map(int,input().split())\n",
        "    student_list.append((weight,height))\n",
        "\n",
        "for i in student_list:\n",
        "    rank=1\n",
        "    for j in student_list:\n",
        "        if i[0] < j[0] and i[1] <j[1]:\n",
        "            rank+=1\n",
        "    print(rank, end=\" \")\n",
        "\n",
        "\n"
      ],
      "metadata": {
        "colab": {
          "base_uri": "https://localhost:8080/"
        },
        "id": "5zZVdQXDOIGv",
        "outputId": "d9de5fec-d8ac-4b91-ea75-dbc4c8754ef7"
      },
      "execution_count": 13,
      "outputs": [
        {
          "output_type": "stream",
          "name": "stdout",
          "text": [
            "5\n",
            "55 185\n",
            "58 183\n",
            "88 186\n",
            "60 175\n",
            "46 155\n",
            "2 2 1 2 5 "
          ]
        }
      ]
    },
    {
      "cell_type": "code",
      "source": [
        ""
      ],
      "metadata": {
        "id": "yuAUjHyuRtZT"
      },
      "execution_count": null,
      "outputs": []
    }
  ]
}