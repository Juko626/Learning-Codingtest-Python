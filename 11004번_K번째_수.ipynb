{
  "nbformat": 4,
  "nbformat_minor": 0,
  "metadata": {
    "colab": {
      "name": "11004번 K번째 수",
      "provenance": [],
      "authorship_tag": "ABX9TyOwnBExV6XzRDaX5QzrlIGE",
      "include_colab_link": true
    },
    "kernelspec": {
      "name": "python3",
      "display_name": "Python 3"
    },
    "language_info": {
      "name": "python"
    }
  },
  "cells": [
    {
      "cell_type": "markdown",
      "metadata": {
        "id": "view-in-github",
        "colab_type": "text"
      },
      "source": [
        "<a href=\"https://colab.research.google.com/github/Juko626/Learning-Codingtest-Python/blob/main/11004%EB%B2%88_K%EB%B2%88%EC%A7%B8_%EC%88%98.ipynb\" target=\"_parent\"><img src=\"https://colab.research.google.com/assets/colab-badge.svg\" alt=\"Open In Colab\"/></a>"
      ]
    },
    {
      "cell_type": "code",
      "execution_count": 6,
      "metadata": {
        "colab": {
          "base_uri": "https://localhost:8080/"
        },
        "id": "5zVl554WyUVd",
        "outputId": "ab726406-d239-4ba4-e1ba-9448e7337789"
      },
      "outputs": [
        {
          "output_type": "stream",
          "name": "stdout",
          "text": [
            "5 2\n",
            "3 2 1 4 5\n",
            "5 2 [1, 2, 3, 4, 5]\n",
            "2\n"
          ]
        }
      ],
      "source": [
        "a,b=map(int,input().split())\n",
        "number=list(map(int,input().split()))\n",
        "number=sorted(number)\n",
        "\n",
        "print(number[b-1])\n"
      ]
    },
    {
      "cell_type": "code",
      "source": [
        ""
      ],
      "metadata": {
        "id": "VyQYDPctF_Wy"
      },
      "execution_count": null,
      "outputs": []
    }
  ]
}