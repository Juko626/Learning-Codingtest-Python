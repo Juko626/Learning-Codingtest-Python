{
  "nbformat": 4,
  "nbformat_minor": 0,
  "metadata": {
    "colab": {
      "name": "9655번 돌게임",
      "provenance": [],
      "authorship_tag": "ABX9TyNP/s3o55sBpi6f3Qkf0MJC",
      "include_colab_link": true
    },
    "kernelspec": {
      "name": "python3",
      "display_name": "Python 3"
    },
    "language_info": {
      "name": "python"
    }
  },
  "cells": [
    {
      "cell_type": "markdown",
      "metadata": {
        "id": "view-in-github",
        "colab_type": "text"
      },
      "source": [
        "<a href=\"https://colab.research.google.com/github/Juko626/Learning-Codingtest-Python/blob/main/11728%EB%B2%88%20%EB%B0%B0%EC%97%B4%20%ED%95%A9%EC%B9%98%EA%B8%B0.ipynb\" target=\"_parent\"><img src=\"https://colab.research.google.com/assets/colab-badge.svg\" alt=\"Open In Colab\"/></a>"
      ]
    },
    {
      "cell_type": "code",
      "source": [
        "a,b=map(int,input().split())\n",
        "result=[]\n",
        "for i in range(2):\n",
        "    result.append(list(map(int,input().split())))\n",
        "new_result=sum(result,[])\n",
        "new_result=sorted(new_result)\n",
        "for i in new_result:\n",
        "    print(i, end =\" \")"
      ],
      "metadata": {
        "colab": {
          "base_uri": "https://localhost:8080/"
        },
        "id": "VyQYDPctF_Wy",
        "outputId": "d088aa47-cd65-4547-8fce-0a277f34590b"
      },
      "execution_count": 31,
      "outputs": [
        {
          "output_type": "stream",
          "name": "stdout",
          "text": [
            "4 3\n",
            "2 3 5 9\n",
            "1 4 7\n",
            "1 2 3 4 5 7 9 "
          ]
        }
      ]
    },
    {
      "cell_type": "code",
      "source": [
        "2"
      ],
      "metadata": {
        "id": "RNj7AhUrRusM"
      },
      "execution_count": null,
      "outputs": []
    }
  ]
}