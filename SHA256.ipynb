{
  "nbformat": 4,
  "nbformat_minor": 0,
  "metadata": {
    "colab": {
      "name": "SHA256.ipynb",
      "provenance": [],
      "authorship_tag": "ABX9TyNqFEJS6cDdVXHRc+pAGsrf",
      "include_colab_link": true
    },
    "kernelspec": {
      "name": "python3",
      "display_name": "Python 3"
    },
    "language_info": {
      "name": "python"
    }
  },
  "cells": [
    {
      "cell_type": "markdown",
      "metadata": {
        "id": "view-in-github",
        "colab_type": "text"
      },
      "source": [
        "<a href=\"https://colab.research.google.com/github/Juko626/Learning-Codingtest-Python/blob/main/SHA256.ipynb\" target=\"_parent\"><img src=\"https://colab.research.google.com/assets/colab-badge.svg\" alt=\"Open In Colab\"/></a>"
      ]
    },
    {
      "cell_type": "code",
      "execution_count": 5,
      "metadata": {
        "id": "Ejyt5Pipscs0",
        "colab": {
          "base_uri": "https://localhost:8080/"
        },
        "outputId": "bdb07dee-af95-421f-e043-1b96ad332654"
      },
      "outputs": [
        {
          "output_type": "stream",
          "name": "stdout",
          "text": [
            "baekjoon\n",
            "<sha256 HASH object @ 0x7f004810b030>\n",
            "81483f013a021698d6b6d54147c4b3011e7025f376934e3d88994b32b82cfa65\n"
          ]
        }
      ],
      "source": [
        "word= input()\n",
        "\n",
        "\n",
        "import hashlib\n",
        "\n",
        "result=hashlib.sha256(word.encode())\n",
        "print(result.hexdigest())"
      ]
    },
    {
      "cell_type": "code",
      "source": [
        ""
      ],
      "metadata": {
        "id": "kEpnWsSYtzXz"
      },
      "execution_count": null,
      "outputs": []
    }
  ]
}