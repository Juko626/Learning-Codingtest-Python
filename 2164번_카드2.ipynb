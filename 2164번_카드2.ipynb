{
  "nbformat": 4,
  "nbformat_minor": 0,
  "metadata": {
    "colab": {
      "name": "2164번 카드2",
      "provenance": [],
      "authorship_tag": "ABX9TyNw0l5WrqJrBNbjgRT9nuuk",
      "include_colab_link": true
    },
    "kernelspec": {
      "name": "python3",
      "display_name": "Python 3"
    },
    "language_info": {
      "name": "python"
    }
  },
  "cells": [
    {
      "cell_type": "markdown",
      "metadata": {
        "id": "view-in-github",
        "colab_type": "text"
      },
      "source": [
        "<a href=\"https://colab.research.google.com/github/Juko626/Learning-Codingtest-Python/blob/main/2164%EB%B2%88_%EC%B9%B4%EB%93%9C2.ipynb\" target=\"_parent\"><img src=\"https://colab.research.google.com/assets/colab-badge.svg\" alt=\"Open In Colab\"/></a>"
      ]
    },
    {
      "cell_type": "code",
      "execution_count": 31,
      "metadata": {
        "colab": {
          "base_uri": "https://localhost:8080/"
        },
        "id": "5qBGb4EYXq33",
        "outputId": "5f4c6687-0885-4faa-fc61-df8552036cc7"
      },
      "outputs": [
        {
          "output_type": "stream",
          "name": "stdout",
          "text": [
            "6\n",
            "4\n"
          ]
        }
      ],
      "source": [
        "from collections import deque \n",
        "n=int(input())\n",
        "num=deque(range(1,n+1))\n",
        "while(len(num)>1):\n",
        "  num.popleft()\n",
        "  num.append(num.popleft())\n",
        "print(num[0])"
      ]
    },
    {
      "cell_type": "code",
      "source": [
        "\n"
      ],
      "metadata": {
        "colab": {
          "base_uri": "https://localhost:8080/"
        },
        "id": "Da7U0wH8JIPA",
        "outputId": "727fd77d-f1a7-47a6-ff16-35b695c65006"
      },
      "execution_count": 28,
      "outputs": [
        {
          "output_type": "stream",
          "name": "stdout",
          "text": [
            "6\n",
            "4\n"
          ]
        }
      ]
    }
  ]
}