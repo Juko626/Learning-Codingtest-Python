{
  "nbformat": 4,
  "nbformat_minor": 0,
  "metadata": {
    "colab": {
      "name": "9655번 돌게임",
      "provenance": [],
      "authorship_tag": "ABX9TyPzO5JOBMzL8ozgqeq1mKUD",
      "include_colab_link": true
    },
    "kernelspec": {
      "name": "python3",
      "display_name": "Python 3"
    },
    "language_info": {
      "name": "python"
    }
  },
  "cells": [
    {
      "cell_type": "markdown",
      "metadata": {
        "id": "view-in-github",
        "colab_type": "text"
      },
      "source": [
        "<a href=\"https://colab.research.google.com/github/Juko626/Learning-Codingtest-Python/blob/main/9655%EB%B2%88_%EB%8F%8C%EA%B2%8C%EC%9E%84.ipynb\" target=\"_parent\"><img src=\"https://colab.research.google.com/assets/colab-badge.svg\" alt=\"Open In Colab\"/></a>"
      ]
    },
    {
      "cell_type": "code",
      "source": [
        "n=int(input())\n",
        "count=0\n",
        "while(n!=0):\n",
        "    if n>=3:\n",
        "        n-=3\n",
        "        count+=1\n",
        "    elif n==1:\n",
        "        n-=1\n",
        "        count+=1\n",
        "    elif n==2:\n",
        "        n-=1\n",
        "        count+=1\n",
        "if count %2==1:\n",
        "    print(\"SK\")\n",
        "else:\n",
        "    print(\"CY\")    \n"
      ],
      "metadata": {
        "colab": {
          "base_uri": "https://localhost:8080/"
        },
        "id": "VyQYDPctF_Wy",
        "outputId": "94e451cd-125a-4193-983a-bd167cd39bbc"
      },
      "execution_count": 17,
      "outputs": [
        {
          "output_type": "stream",
          "name": "stdout",
          "text": [
            "5\n",
            "SK\n"
          ]
        }
      ]
    }
  ]
}