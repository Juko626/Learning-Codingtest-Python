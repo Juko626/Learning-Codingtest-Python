{
  "nbformat": 4,
  "nbformat_minor": 0,
  "metadata": {
    "colab": {
      "name": "수 찾기",
      "provenance": [],
      "authorship_tag": "ABX9TyNBDwFpydnN6EPy6cwrHneJ",
      "include_colab_link": true
    },
    "kernelspec": {
      "name": "python3",
      "display_name": "Python 3"
    },
    "language_info": {
      "name": "python"
    }
  },
  "cells": [
    {
      "cell_type": "markdown",
      "metadata": {
        "id": "view-in-github",
        "colab_type": "text"
      },
      "source": [
        "<a href=\"https://colab.research.google.com/github/Juko626/Learning-Codingtest-Python/blob/main/%EC%88%98_%EC%B0%BE%EA%B8%B0.ipynb\" target=\"_parent\"><img src=\"https://colab.research.google.com/assets/colab-badge.svg\" alt=\"Open In Colab\"/></a>"
      ]
    },
    {
      "cell_type": "code",
      "execution_count": null,
      "metadata": {
        "colab": {
          "base_uri": "https://localhost:8080/"
        },
        "id": "8C-uqPjgu7PG",
        "outputId": "8074310d-e943-4415-e99e-d445717981a9"
      },
      "outputs": [
        {
          "output_type": "stream",
          "name": "stdout",
          "text": [
            "5\n",
            "4 1 5 2 3\n",
            "5\n",
            "1 3 7 9 5\n",
            "{1, 2, 3, 4, 5}\n",
            "<map object at 0x7f0890aefb90>\n",
            "1\n",
            "1\n",
            "0\n",
            "0\n",
            "1\n"
          ]
        }
      ],
      "source": [
        "# #시간초과\n",
        "# num=int(input())\n",
        "# word1=list(map(int,input().split()))\n",
        "# num=int(input())    \n",
        "# word2=list(map(int,input().split()))\n",
        "# for i in word2:\n",
        "#     for j in word1:\n",
        "#         if i==j:\n",
        "#             print(1)\n",
        "#             break\n",
        "#         elif i!=j:\n",
        "#             continue\n",
        "#     else:\n",
        "#         print(0)\n",
        "            \n",
        "#정답\n",
        "\n",
        "num=int(input())\n",
        "word1=set(map(int,input().split()))\n",
        "num=int(input())    \n",
        "word2=map(int,input().split())\n",
        "print(word1)\n",
        "print(word2)\n",
        "\n",
        "for i in word2:\n",
        "    if i in word1:\n",
        "        print(1)\n",
        "    else:\n",
        "        print(0)\n",
        "\n",
        "\n",
        "'''\n",
        "수가 있는 지 없는 지 확인거는 건 해쉬, 딕셔너리, set활용하자\n",
        "'''"
      ]
    },
    {
      "cell_type": "code",
      "source": [
        ""
      ],
      "metadata": {
        "id": "xlXtCfPS8Kyf"
      },
      "execution_count": null,
      "outputs": []
    },
    {
      "cell_type": "code",
      "source": [
        ""
      ],
      "metadata": {
        "id": "174E7M9j8K6U"
      },
      "execution_count": null,
      "outputs": []
    },
    {
      "cell_type": "code",
      "source": [
        ""
      ],
      "metadata": {
        "id": "AJCsagl68LDe"
      },
      "execution_count": null,
      "outputs": []
    },
    {
      "cell_type": "code",
      "source": [
        ""
      ],
      "metadata": {
        "id": "qazcOsBS8LNE"
      },
      "execution_count": null,
      "outputs": []
    },
    {
      "cell_type": "markdown",
      "source": [
        ""
      ],
      "metadata": {
        "id": "CYnsWpIR8Lm4"
      }
    },
    {
      "cell_type": "code",
      "source": [
        "print(word1)\n",
        "print(word2)"
      ],
      "metadata": {
        "colab": {
          "base_uri": "https://localhost:8080/"
        },
        "id": "KcNHcRCR3HRN",
        "outputId": "46a50ffa-2509-49f9-f1e1-8860b33e1f99"
      },
      "execution_count": null,
      "outputs": [
        {
          "output_type": "stream",
          "name": "stdout",
          "text": [
            "<map object at 0x7f087f198450>\n",
            "['1', '3', '7', '9', '5']\n"
          ]
        }
      ]
    },
    {
      "cell_type": "code",
      "source": [
        ""
      ],
      "metadata": {
        "id": "EwbRE0Li4OMt"
      },
      "execution_count": null,
      "outputs": []
    }
  ]
}