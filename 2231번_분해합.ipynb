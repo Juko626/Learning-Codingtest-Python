{
  "nbformat": 4,
  "nbformat_minor": 0,
  "metadata": {
    "colab": {
      "name": "2231번 분해합",
      "provenance": [],
      "authorship_tag": "ABX9TyOzpih2OB46L9JPO8fFyWfs",
      "include_colab_link": true
    },
    "kernelspec": {
      "name": "python3",
      "display_name": "Python 3"
    },
    "language_info": {
      "name": "python"
    }
  },
  "cells": [
    {
      "cell_type": "markdown",
      "metadata": {
        "id": "view-in-github",
        "colab_type": "text"
      },
      "source": [
        "<a href=\"https://colab.research.google.com/github/Juko626/Learning-Codingtest-Python/blob/main/2231%EB%B2%88_%EB%B6%84%ED%95%B4%ED%95%A9.ipynb\" target=\"_parent\"><img src=\"https://colab.research.google.com/assets/colab-badge.svg\" alt=\"Open In Colab\"/></a>"
      ]
    },
    {
      "cell_type": "code",
      "execution_count": 2,
      "metadata": {
        "colab": {
          "base_uri": "https://localhost:8080/"
        },
        "id": "IZfQmIld38cS",
        "outputId": "d640360c-0bdc-4265-d461-88add9f1f75d"
      },
      "outputs": [
        {
          "output_type": "stream",
          "name": "stdout",
          "text": [
            "216\n",
            "198\n"
          ]
        }
      ],
      "source": [
        "N=int(input())\n",
        "result=0\n",
        "for i in range(1,N+1):\n",
        "    A=list(map(int,str(i)))\n",
        "    result=i+sum(A)\n",
        "    if result==N:\n",
        "        print(i)\n",
        "        break\n",
        "    \n",
        "    if i==N:\n",
        "        print(0)\n",
        "\n",
        "\n"
      ]
    }
  ]
}